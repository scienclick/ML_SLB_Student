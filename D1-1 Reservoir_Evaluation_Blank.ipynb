{
  "metadata": {
    "kernelspec": {
      "name": "python3",
      "display_name": "Python 3",
      "language": "python"
    },
    "language_info": {
      "name": "python",
      "version": "3.6.8",
      "mimetype": "text/x-python",
      "codemirror_mode": {
        "name": "ipython",
        "version": 3
      },
      "pygments_lexer": "ipython3",
      "nbconvert_exporter": "python",
      "file_extension": ".py"
    },
    "creator": "ashamsa@slb.com",
    "createdOn": 1663176526317,
    "tags": [],
    "customFields": {},
    "modifiedBy": "dbecerra6@slb.com",
    "versionNumber": 2
  },
  "nbformat": 4,
  "nbformat_minor": 5,
  "cells": [
    {
      "cell_type": "markdown",
      "metadata": {},
      "source": [
        "## Kernel: `Python 3`"
      ]
    },
    {
      "cell_type": "markdown",
      "metadata": {},
      "source": [
        "# Day 1 - Tutorial 1\n\nThe objective of this exercise is to import geological properties calculated on a 3D seismic cube, and learn how to perform the following operations using this data:\n\n* Run statistics \n* Create 2D plots\n* Map a specific layer of the property cube\n* Calculate volumetrics on specific layers\n\nThe data for this tutorial comes from a 3D seismic cube from offshore Australia. \n\nIn Petrel, the following geological properties were calculated using the seismic cube: \n\n- Net to Gross \n- Water Saturation \n- Permeability \n- Porosity \n\nBelow is an example of the porosity distribution through the seismic cube:\n"
      ]
    },
    {
      "execution_count": 0,
      "cell_type": "code",
      "metadata": {},
      "source": [
        "import dataiku, os\nfrom IPython.display import Image\n\nfolder_path \u003d dataiku.Folder(\u0027data\u0027).get_path()\nfile_path_pic4 \u003d os.path.join(folder_path, \"d1_Picture4.jpg\")\nImage(file_path_pic4)"
      ],
      "outputs": []
    },
    {
      "cell_type": "markdown",
      "metadata": {},
      "source": [
        "## Step 1: Import Libraries"
      ]
    },
    {
      "execution_count": 0,
      "cell_type": "code",
      "metadata": {},
      "source": [
        "# Import required libraries\n\nimport numpy as np\nimport matplotlib.pyplot as plt"
      ],
      "outputs": []
    },
    {
      "cell_type": "markdown",
      "metadata": {},
      "source": [
        "## Step 2: Import the Dataset\n\nThe \"All properties\" file was exported from Petrel as a 2D array; it contains four columns corresponding to the following properties:\n\n- First column: Net to Gross (ntg)\n- Second column: Water Saturation (sw)\n- Third column: Permeability (perm)\n- Fourth column: Porosity (phi)"
      ]
    },
    {
      "execution_count": 0,
      "cell_type": "code",
      "metadata": {},
      "source": [
        "import dataiku, os\n\n# Load the data from Dataiku \"data\" folder\n\nfolder_path \u003d dataiku.Folder(\u0027data\u0027).get_path()\nfile_path \u003d os.path.join(folder_path, \"All properties.txt\")\n\nall_properties \u003d np.loadtxt(file_path)"
      ],
      "outputs": []
    },
    {
      "execution_count": 0,
      "cell_type": "code",
      "metadata": {
        "scrolled": false
      },
      "source": [
        "# Display a summary of the 2D array\n\n"
      ],
      "outputs": []
    },
    {
      "execution_count": 0,
      "cell_type": "code",
      "metadata": {},
      "source": [
        "# Check the shape of the 2D array (rows, columns)\n\n"
      ],
      "outputs": []
    },
    {
      "cell_type": "markdown",
      "metadata": {},
      "source": [
        "## Step 3: Set Undefined Values\n\nThe missing values in the dataset are represented by -99.00, we can replace them with NaN.\n\nNaN stands for Not A Number "
      ]
    },
    {
      "execution_count": 0,
      "cell_type": "code",
      "metadata": {},
      "source": [
        "# Replace the missing values with nan\n\n"
      ],
      "outputs": []
    },
    {
      "cell_type": "markdown",
      "metadata": {},
      "source": [
        "## Step 4: Create Individual 1D Arrays\n\nSplit the 2D array \"all_properties\" into individual 1D arrays for each property:\n\n- Net to gross (ntg)\n- Water saturation (sw)\n- Permeability (perm)\n- Porosity (phi)\n\nThis process is known as slicing which means selecting data from an array. \n\nTo slice elements from 2D arrays, you need to specify both a row index and a column index as [row_index, column_index]\n\nThe colon (:) is used to select all the elements from a row or column."
      ]
    },
    {
      "execution_count": 0,
      "cell_type": "code",
      "metadata": {},
      "source": [
        "# Create a 1D array for each column in the 2D array (all_properties)\n\nntg \u003d all_properties[:, 0]\n"
      ],
      "outputs": []
    },
    {
      "execution_count": 0,
      "cell_type": "code",
      "metadata": {},
      "source": [
        "# Display a summary of each 1D array\n\n\n\n# If an array is too large to be printed, NumPy automatically skips the central part of the array and only prints the corners"
      ],
      "outputs": []
    },
    {
      "execution_count": 0,
      "cell_type": "code",
      "metadata": {},
      "source": [
        "# Display specific rows from the arrays\n\nprint(ntg[245910:245950])\n"
      ],
      "outputs": []
    },
    {
      "execution_count": 0,
      "cell_type": "code",
      "metadata": {},
      "source": [
        "# Display the shape of each 1D array (rows,)\n\nprint(\u0027ntg shape\u0027, ntg.shape)\n"
      ],
      "outputs": []
    },
    {
      "cell_type": "markdown",
      "metadata": {},
      "source": [
        "## Step 4: Run Summary Statistics on the Properties\n\nUsing the 1D arrays for each property, we will run summary statistics (min, max, mean) across the entire array of values"
      ]
    },
    {
      "execution_count": 0,
      "cell_type": "code",
      "metadata": {},
      "source": [
        "# Create variables to compute the min, max and mean values for \"Net to Gross\" \n\nmin_ntg\u003d np.nanmin(ntg)\n\n\n# Display min, max and mean values for the \"Net to Gross\"\n\nprint (\u0027ntg min:\u0027, min_ntg)\n"
      ],
      "outputs": []
    },
    {
      "execution_count": 0,
      "cell_type": "code",
      "metadata": {},
      "source": [
        "# Create variables to compute the min, max and mean values for the \"Water Saturation\" \n\n\n\n\n# Display min, max and mean values for the \"Water Saturation\"\n\n\n"
      ],
      "outputs": []
    },
    {
      "execution_count": 0,
      "cell_type": "code",
      "metadata": {},
      "source": [
        "# Create variables to compute the min, max and mean values for the \"Permeability\" variable\n\n\n\n# Display min, max and mean values for the \"Permeability\"\n\n"
      ],
      "outputs": []
    },
    {
      "execution_count": 0,
      "cell_type": "code",
      "metadata": {
        "scrolled": true
      },
      "source": [
        "# Create variables to compute min, max and mean values for the \"Porosity\" variable\n\n\n\n# Display min, max and mean values for the \"Porosity\"\n\n\n"
      ],
      "outputs": []
    },
    {
      "cell_type": "markdown",
      "metadata": {},
      "source": [
        "## Step 5: Plot Permeability vs Porosity\n\nLet\u0027s create a scatter plot of permeability versus porosity over a specific range of values"
      ]
    },
    {
      "execution_count": 0,
      "cell_type": "code",
      "metadata": {},
      "source": [
        "# Define variables to plot (x and y) and the data range to be plotted [start_row:end_row] \u003d [685000:690000]\n\n"
      ],
      "outputs": []
    },
    {
      "execution_count": 0,
      "cell_type": "code",
      "metadata": {},
      "source": [
        "# Define the plotting fuction (plot type,  plot title, axis labels, color of data points)\n\n\n# Axis labels\n\n\n# Logaritmic scale for perm\n\n\n# Display the plot\n\n"
      ],
      "outputs": []
    },
    {
      "cell_type": "markdown",
      "metadata": {},
      "source": [
        "## Step 6: Reshape the 2D array into a 3D array\n\nIn this step we will create a function to reshape the seismic-based properties from 1D arrays to 3D arrays. The output will be used to run operations on specific layers/slices of the property cubes.\n\nFor the current exercise, the shape of the property cubes is as follows:\n\n    i\u003d111\n    j\u003d140\n    k\u003d60\n    \n    shape (111,140,60)\n    \nHowever, the order in which the indexes are represented in Petrel (i,j,k) is different from Python representation (k,j,i):\n\n *** Run the cell below to display the image ***"
      ]
    },
    {
      "execution_count": 0,
      "cell_type": "code",
      "metadata": {},
      "source": [
        "import dataiku, os\nfrom IPython.display import Image\n\nfolder_path \u003d dataiku.Folder(\u0027data\u0027).get_path()\nfile_path_pic1 \u003d os.path.join(folder_path, \"d1_Picture1.jpg\")\nImage(file_path_pic1)"
      ],
      "outputs": []
    },
    {
      "cell_type": "markdown",
      "metadata": {},
      "source": [
        "Therefore, once we create the 3D array, we will need to re-order it. The reshaping/reordering process will be perform in 3 steps:\n\n 1. Reshape the 1D array into a 3D array (reshape function)\n 2. Flip the resulting 3D array along the i axis (transpose function)\n 3. Flip the resulting 3D array along the j axis (transpose function)\n  \n *** Run the cell below to display the image ***\n "
      ]
    },
    {
      "execution_count": 0,
      "cell_type": "code",
      "metadata": {},
      "source": [
        "import dataiku, os\nfrom IPython.display import Image\n\nfolder_path \u003d dataiku.Folder(\u0027data\u0027).get_path()\nfile_path_pic3 \u003d os.path.join(folder_path, \"d1_Picture3.jpg\")\nImage(file_path_pic3)"
      ],
      "outputs": []
    },
    {
      "execution_count": 0,
      "cell_type": "code",
      "metadata": {},
      "source": [
        "# Define the function, inputs and outputs\n\ndef ready(property, i, j, k):  \n    \u0027\u0027\u0027\n    Reshape and reorder the properties from 1D array into 3D array\n    \n    property: Propety to reshape (example: ntg, sw, ...) \n    i: i index from the grid (As exported from Petrel)\n    j: j index from the grid (As exported from Petrel)\n    k: k index from the grid (As exported from Petrel)\n    \n    return: Returns the reshaped property cube \n    \n    \u0027\u0027\u0027\n    reshaped\u003d np.array(property,dtype\u003d\"float\").reshape(k,j,i).transpose(1,2,0)\n    return reshaped"
      ],
      "outputs": []
    },
    {
      "execution_count": 0,
      "cell_type": "code",
      "metadata": {},
      "source": [
        "# Run the function for each of the properties (ntg, sw, and phi)\n\nntg_3D\u003d ready(ntg,111,140,60)\n"
      ],
      "outputs": []
    },
    {
      "execution_count": 0,
      "cell_type": "code",
      "metadata": {},
      "source": [
        "# QC the resulted cubes by checking if the dimensions are correct \n\n"
      ],
      "outputs": []
    },
    {
      "execution_count": 0,
      "cell_type": "code",
      "metadata": {},
      "source": [
        "# Compute summary statistics on the net to gross 3D array\n\n"
      ],
      "outputs": []
    },
    {
      "execution_count": 0,
      "cell_type": "code",
      "metadata": {},
      "source": [
        "# Compute summary statistics on the water saturation 3D array \n\nnp.set_printoptions(precision\u003d2)\nprint (\"sw_3D min:\",np.nanmin(sw_3D))\n"
      ],
      "outputs": []
    },
    {
      "execution_count": 0,
      "cell_type": "code",
      "metadata": {},
      "source": [
        "# Compute summary statistics on the porosity 3D array\n\n"
      ],
      "outputs": []
    },
    {
      "cell_type": "markdown",
      "metadata": {},
      "source": [
        "## Step 7:  Create a property Map \n\nWe will create a plot the 45th layer from the porosity 3D array. The resulting image (map) will have one square for each element of the array\n"
      ]
    },
    {
      "execution_count": 0,
      "cell_type": "code",
      "metadata": {},
      "source": [
        "# Extract the layer k\u003d45 from the porosity 3D array\n\nLayer_45\u003d "
      ],
      "outputs": []
    },
    {
      "execution_count": 0,
      "cell_type": "code",
      "metadata": {},
      "source": [
        "# Define plot size\nfig \u003d plt.figure(figsize\u003d(12, 5))\n\n# Use plt.imshow to create the map\nim\u003d plt.imshow(Layer_45, cmap\u003d\u0027jet\u0027, interpolation\u003d\u0027none\u0027, vmin\u003dnp.nanmin(Layer_45), vmax\u003dnp.nanmax(Layer_45))\n\n# Legend\ncbar\u003dplt.colorbar(im, fraction\u003d0.046, pad\u003d0.04)\ncbar.set_label(\u0027Porosity (pu)\u0027, rotation\u003d90)\n\n# Axis labels\nplt.xlabel(\u0027i axis\u0027)\nplt.ylabel(\u0027j axis\u0027)\n\n# Title\nplt.title(\"Porosity k\u003d45\", fontweight \u003d\"bold\", loc\u003d\u0027center\u0027, pad\u003dNone)\n\n# Display the plot\nplt.show()"
      ],
      "outputs": []
    },
    {
      "cell_type": "markdown",
      "metadata": {},
      "source": [
        "## Step 8: Calculate the Volume of Oil in Place (OOIP)\n\nOriginal Oil in place (OOIP) refers to the total volume of oil stored in a reservoir prior to production. \n\nThe estimation of OOIP by the volumetric method is calculated using the following equation: \n\n**OOIP \u003d [A x h x φ x (1-sw)] / Boi**\n\nWhere:\n\n - OOIP \u003d Original oil in place (m^3)\n - A \u003d Drainage area (m^2)\n - h \u003d Net pay (m)\n - φ \u003d Porosity (fraction)  \n - sw \u003d Water saturation (fraction) \n - Boi \u003d Formation volume factor (dimensionless) \n\n\nThe volumetric calculation of OOIP will be performed in three main steps:\n  1. Define the function to compute OOIP\n  2. Run the fuction for layer 45 using the given parameters\n  3. Create a map for the OOIP distribution on layer 45\n"
      ]
    },
    {
      "execution_count": 0,
      "cell_type": "code",
      "metadata": {},
      "source": [
        "# Define the function, inputs and outputs\n\ndef OOIP(A, H, Boi, k): \n    \n    \u0027\u0027\u0027\n    Computes the Original Oil In Place (OOIP) in metric units \n\n    Parameters:  \n    A: Drainage area (m^2)  \n    H: Reservoir thickness (m)  \n    ntg: net-to-gross ratio  (fraction)\n    phi: Porosity  (fraction) \n    sw: Water saturation  (fraction) \n    Boi: Formation volume factor (dimensionless) \n    k:specific layer to compute the equation on\n           \n    return: Returns OOIP (m^3)\n    \n    \u0027\u0027\u0027\n\n    phi \u003d phi_3D[:, :, k]\n    sw \u003d sw_3D[:, :, k]\n    ntg \u003d ntg_3D[:, :, k]\n    \n    ooip_equ \u003d (A * H * ntg * phi * (1 - sw))/ Boi\n    return ooip_equ\n\n# Note that ntg \u003d (net pay)/(total reservoir thickness)"
      ],
      "outputs": []
    },
    {
      "execution_count": 0,
      "cell_type": "code",
      "metadata": {
        "scrolled": true
      },
      "source": [
        "# Calculate the OOIP for layer 45th using the following parameters:\n\n# -Drainage area\u003d 5000 (m^2)\n# -Reservoir thickness\u003d 100 (m)\n# -Boi\u003d 1.18 \n# -Layer\u003d 45\n\n"
      ],
      "outputs": []
    },
    {
      "execution_count": 0,
      "cell_type": "code",
      "metadata": {
        "scrolled": true
      },
      "source": [
        "# Display a summary and shape of the OOIP array\n\n\n"
      ],
      "outputs": []
    },
    {
      "execution_count": 0,
      "cell_type": "code",
      "metadata": {
        "scrolled": true
      },
      "source": [
        "# Compute summary statistics on the OOIP for layer 45th\n\n"
      ],
      "outputs": []
    },
    {
      "execution_count": 0,
      "cell_type": "code",
      "metadata": {
        "scrolled": true
      },
      "source": [
        "# Create a map to display the distribution of OOIP across layer 45th \n\n# Define plot size\nfig \u003d plt.figure(figsize\u003d(12, 5))\n\n# Use plt.imshow fuction to display 2D arrays as an image. The image will have one square for each element of the array\nim \u003d plt.imshow(volume_k, cmap\u003d\u0027jet\u0027, interpolation\u003d\u0027none\u0027, vmin\u003dnp.nanmin(volume_k), vmax\u003dnp.nanmax(volume_k))\n\n# Legend\ncbar\u003dplt.colorbar(im, fraction\u003d0.046, pad\u003d0.04)\ncbar.set_label(\u0027OOIP (m^3)\u0027, rotation\u003d90)\n\n# Axis labels\nplt.xlabel(\u0027i axis\u0027)\nplt.ylabel(\u0027j axis\u0027)\n\n# Title\nplt.title(\"OOIP k\u003d45\", fontweight \u003d\"bold\", loc\u003d\u0027center\u0027, pad\u003dNone)\n\nplt.show()"
      ],
      "outputs": []
    }
  ]
}