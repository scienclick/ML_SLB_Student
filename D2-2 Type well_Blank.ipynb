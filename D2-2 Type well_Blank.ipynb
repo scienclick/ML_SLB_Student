{
  "metadata": {
    "kernelspec": {
      "name": "python3",
      "display_name": "Python 3",
      "language": "python"
    },
    "language_info": {
      "name": "python",
      "version": "3.6.8",
      "mimetype": "text/x-python",
      "codemirror_mode": {
        "name": "ipython",
        "version": 3
      },
      "pygments_lexer": "ipython3",
      "nbconvert_exporter": "python",
      "file_extension": ".py"
    },
    "creator": "ashamsa@slb.com",
    "createdOn": 1663180412813,
    "tags": [],
    "customFields": {},
    "modifiedBy": "dbecerra6@slb.com",
    "versionNumber": 1
  },
  "nbformat": 4,
  "nbformat_minor": 4,
  "cells": [
    {
      "cell_type": "markdown",
      "metadata": {},
      "source": [
        "## Kernel: `Python 3`"
      ]
    },
    {
      "cell_type": "markdown",
      "metadata": {
        "pycharm": {
          "name": "#%%\n"
        }
      },
      "source": [
        "# Day 2 - Tutorial 2\n\nThe objective of this tutorial is to learn how to create type well curves using production data"
      ]
    },
    {
      "execution_count": 0,
      "cell_type": "code",
      "metadata": {
        "pycharm": {
          "name": "#%%\n"
        }
      },
      "source": [
        "# Import required libraries\n\nimport pandas as pd\nfrom IPython.display import display, HTML\nimport numpy as np\nimport matplotlib.pyplot as plt\n\nimport dataiku\nfrom dataiku import pandasutils as pdu\nimport pandas as pd"
      ],
      "outputs": []
    },
    {
      "execution_count": 0,
      "cell_type": "code",
      "metadata": {},
      "source": [
        "# Read and display the completion data \n\nmydataset \u003d dataiku.Dataset(\"completion_data\")\ncompletion \u003d mydataset.get_dataframe()\n\ncompletion"
      ],
      "outputs": []
    },
    {
      "execution_count": 0,
      "cell_type": "code",
      "metadata": {},
      "source": [
        "# Create a function to display a heading on the dataframe when working in chain mode (method chaining)\n\ndef show(df_, title\u003dNone):\n    if title:\n        display(HTML(f\"\u003ch2 \u003e{title}\u003c/h2\u003e\"))\n        display(df_)\n    return df_\n"
      ],
      "outputs": []
    },
    {
      "execution_count": 0,
      "cell_type": "code",
      "metadata": {},
      "source": [
        "# Create a function to store the resulting dataframe when working in chain mode (method chaining)\n\ndef get_var(df_, var_name):\n    globals()[var_name] \u003d df_\n    return df_\n"
      ],
      "outputs": []
    },
    {
      "execution_count": 0,
      "cell_type": "code",
      "metadata": {},
      "source": [
        "# Create a function to edit the completion dataset as follows:\n\ndef prep_completion(df_):\n    \u0027\u0027\u0027\n    this function does the following\n    1- Changes columns name to lower case\n    2- Replaces space with underscore (_) in column names \n    3- Keep the rows when producing zone\u003d \u0027zone1\u0027\n    4- Removes the rows when fluid column \u003d \u0027oil\u0027\n    :param df_: original data frame\n    :return: processed data frame\n    \u0027\u0027\u0027\n    return (df_\n            .rename(columns\u003d{k: k.lower().replace(\u0027 \u0027, \u0027_\u0027) for k in df_.columns})\n            .query(\"producing_zone in [\u0027zone1\u0027]\")\n            .query(\"fluid not in [\u0027oil\u0027]\")\n            .pipe(show, title\u003d\"keeping Gas Only\")\n            .pipe(get_var, \u0027new_cols\u0027) \n            )\n\n# \u0027new_cols\u0027 is a dataframe, so once we apply the fuction, we can inspect it! "
      ],
      "outputs": []
    },
    {
      "execution_count": 0,
      "cell_type": "code",
      "metadata": {},
      "source": [
        "# Now let\u0027s apply the prep_completion function to the completion dataset\n\n"
      ],
      "outputs": []
    },
    {
      "execution_count": 0,
      "cell_type": "code",
      "metadata": {},
      "source": [
        "# Read and display the production data \n\nmydataset \u003d dataiku.Dataset(\"production_data\")\nproduction \u003d mydataset.get_dataframe()\n\n\n# Make sure that the column \u0027Prod Date\u0027 is treated as date\n\nproduction[\"Prod Date\"]\u003d pd.to_datetime(production[\"Prod Date\"])\n\nproduction"
      ],
      "outputs": []
    },
    {
      "execution_count": 0,
      "cell_type": "code",
      "metadata": {},
      "source": [
        "# Create a function to modify the production dataset following the instrutions below:\n\ndef prep_production(df_):\n    \u0027\u0027\u0027\n    this function does the following:\n    1- lower case the columns name\n    2- Replace spaces by _\n    3- set \u0027prod_date\u0027 as index\n    :param df_: original data frame\n    :return: processed data frame\n    \u0027\u0027\u0027\n    return (df_\n            .rename(columns\u003d{k: k.lower().replace(\u0027 \u0027, \u0027_\u0027) for k in df_.columns})\n            .set_index(\"prod_date\")\n            .pipe(show,title\u003d\"Edited Prod\")\n            .pipe(get_var, \u0027new_cols\u0027)  \n            )\n"
      ],
      "outputs": []
    },
    {
      "execution_count": 0,
      "cell_type": "code",
      "metadata": {},
      "source": [
        "# Now let\u0027s apply the \u0027prep_completion\u0027 function to the production dataset\n\n"
      ],
      "outputs": []
    },
    {
      "execution_count": 0,
      "cell_type": "code",
      "metadata": {},
      "source": [
        "# Use the fuction .groupby to plot the production data for all the wells in a single graph\n\nplt.figure(figsize\u003d(15, 6))\nproduction.groupby(\"unformatted_uwi\")[\"monthly_gas_(e3m3)\"].plot(marker\u003d\u0027.\u0027, markersize\u003d5, legend\u003dTrue, \n                                                         title\u003d\u0027Monthly Gas Production\u0027)\n\nplt.xlabel(\u0027Production Date\u0027)\nplt.ylabel(\u0027Monthly Gas Production (e3m3)\u0027)\n"
      ],
      "outputs": []
    },
    {
      "execution_count": 0,
      "cell_type": "code",
      "metadata": {},
      "source": [
        "# Merge the completion and production datasets and make the following changes to the new data set using method chaining\n\n#1 Reset the current index\n#2 Rename the column \u0027unformatted_uwi\u0027 to \u0027uwi\u0027\n#3 Merge the completion and production datasets based on the \u0027uwi\u0027 column\n#4 Sort the dataframe based on the \u0027prod_date\u0027 column\n#5 Create a new column named \u0027normalized_date\u0027 to number each production entry for a well -\u003e (0 - max # of prod. rows)\n#6 create a new column named \u0027monthly_gas_per_stimulated_length\u0027 and compute \u0027monthly_gas_(e3m3)\u0027 / ddf.stimulated_length\n#7 Drop null values (NaN) from the \u0027monthly_gas_per_stimulated_length\u0027 column\n#8 Set the \u0027normalized_date\u0027 column as index\n\n\nprod_comp \u003d (production\n        .reset_index() \n        .rename(columns\u003d{\"unformatted_uwi\": \"uwi\"})\n        .merge(completion[[\"uwi\", \"stimulated_length\"]], how\u003d\"left\", left_on\u003d\"uwi\", right_on\u003d\"uwi\") \n        .sort_values(by\u003d[\"uwi\", \"prod_date\"])\n        .assign(normalized_date\u003d lambda df_: df_.groupby(\"uwi\").cumcount().values,\n                monthly_gas_per_stimulated_length\u003dlambda ddf: ddf[\u0027monthly_gas_(e3m3)\u0027] / ddf[\u0027stimulated_length\u0027])\n        .dropna(subset\u003d[\"monthly_gas_per_stimulated_length\"]) \n        .set_index(\"normalized_date\") \n)"
      ],
      "outputs": []
    },
    {
      "execution_count": 0,
      "cell_type": "code",
      "metadata": {},
      "source": [
        "# Print the \u0027prod_comp\u0027 dataframe to visualize the changes made\n\n"
      ],
      "outputs": []
    },
    {
      "execution_count": 0,
      "cell_type": "code",
      "metadata": {},
      "source": [
        "# Now let\u0027s plot the monthly gas production versus normalized_date \n\n"
      ],
      "outputs": []
    },
    {
      "cell_type": "markdown",
      "metadata": {},
      "source": [
        "## Create Percentiles"
      ]
    },
    {
      "execution_count": 0,
      "cell_type": "code",
      "metadata": {},
      "source": [
        "# Create a function to define custom percentiles\n\ndef percentile(n):\n    def percentile_(x):\n        return np.percentile(x, n)\n\n    percentile_.__name__ \u003d \u0027P_ %s\u0027 % n\n    return percentile_\n"
      ],
      "outputs": []
    },
    {
      "execution_count": 0,
      "cell_type": "code",
      "metadata": {},
      "source": [
        "# Let\u0027s review what the percentile (n) function does:\n\nprod_comp.groupby(\u0027normalized_date\u0027).agg([percentile(10), \n                                          percentile(25), \n                                          percentile(50), \n                                          percentile(75), \n                                          percentile(90)])[\"monthly_gas_per_stimulated_length\"]\n\n# This funtion computes percentile values (10, 25, 50, 75, 90) for the total monthly gas production of the four wells "
      ],
      "outputs": []
    },
    {
      "execution_count": 0,
      "cell_type": "code",
      "metadata": {},
      "source": [
        "# First let\u0027s create a custom plotting function\n\ndef format_plot(ax\u003dNone, label\u003d\"\"):\n    ax.set_ylabel(label, fontdict\u003d{\u0027fontsize\u0027: 10})\n    ax.set_xlabel(\u0027Month #\u0027, fontdict\u003d{\u0027fontsize\u0027: 10}) \n    plt.grid(b\u003dTrue, which\u003d\u0027major\u0027, color\u003d\u0027gray\u0027, linestyle\u003d\u0027-\u0027)\n    plt.grid(b\u003dTrue, which\u003d\u0027minor\u0027, linestyle\u003d\u0027--\u0027)\n    plt.minorticks_on()\n    plt.tight_layout()\n    plt.show()\n"
      ],
      "outputs": []
    },
    {
      "execution_count": 0,
      "cell_type": "code",
      "metadata": {},
      "source": [
        "# Create a function to generate two plots to display the total production for 5 years (60 months)\n\n# The first plot is monthly_gas_per_stimulated_length versus Month # (\u0027normalized_date\u0027)\n# The second plot is the \u0027Cum Monthly Gas/stimulated length\u0027 versus Month # (\u0027normalized_date\u0027)\n\n\ndef plot_type_wells(df: pd.DataFrame \u003d \"\",\n                    col\u003d\"\",\n                    col_label\u003d\"\",\n                    cum_col_label\u003d\"\"):\n    \n    ax \u003d prod_comp.groupby(\u0027normalized_date\u0027).agg([percentile(10), \n                                                   percentile(25), \n                                                   percentile(50), \n                                                   percentile(75), \n                                                   percentile(90)])[col].head(60).plot(fontsize\u003d14, \n                                                                                       linewidth\u003d3)\n\n    format_plot(ax\u003dax, label\u003dcol_label)\n    \n    \n    ax \u003d prod_comp.groupby(\u0027normalized_date\u0027).agg([percentile(10), \n                                                   percentile(25),\n                                                   percentile(50),\n                                                   percentile(75),\n                                                   percentile(90)])[col].head(60).cumsum().plot(fontsize\u003d14,\n                                                                                                linewidth\u003d3)\n    \n    format_plot(ax\u003dax, label\u003dcum_col_label)\n\n    \n# Note that the .cumsum() function was agregated to be able to generate the second plot  "
      ],
      "outputs": []
    },
    {
      "execution_count": 0,
      "cell_type": "code",
      "metadata": {},
      "source": [
        "# Apply the \u0027plot_type_wells\u0027 function to display the monthly and cummulative normalized production plots\n\nplot_type_wells(df\u003dprod_comp, \n                col\u003d\"monthly_gas_per_stimulated_length\",\n                col_label\u003d\"Monthly Gas/stimulated length (E3m3)\",\n                cum_col_label\u003d\"Cum Monthly Gas/stimulated length (E3m3)\")"
      ],
      "outputs": []
    },
    {
      "execution_count": 0,
      "cell_type": "code",
      "metadata": {},
      "source": [
        ""
      ],
      "outputs": []
    }
  ]
}