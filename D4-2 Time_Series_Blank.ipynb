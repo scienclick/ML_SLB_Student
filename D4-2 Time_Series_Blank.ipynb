{
  "metadata": {
    "kernelspec": {
      "name": "py-dku-venv-fund-d4",
      "display_name": "Python (env Fund-d4)",
      "language": "python"
    },
    "language_info": {
      "name": "python",
      "version": "3.7.12",
      "mimetype": "text/x-python",
      "codemirror_mode": {
        "name": "ipython",
        "version": 3
      },
      "pygments_lexer": "ipython3",
      "nbconvert_exporter": "python",
      "file_extension": ".py"
    },
    "creator": "ashamsa@slb.com",
    "createdOn": 1663182177186,
    "tags": [],
    "customFields": {},
    "modifiedBy": "dbecerra6@slb.com"
  },
  "nbformat": 4,
  "nbformat_minor": 1,
  "cells": [
    {
      "cell_type": "markdown",
      "metadata": {},
      "source": [
        "## Kernel: `Fund-d4`"
      ]
    },
    {
      "cell_type": "markdown",
      "metadata": {
        "pycharm": {
          "name": "#%% md\n"
        }
      },
      "source": [
        "## Day 4 - Tutorial 2: Time Series Analysis \n\nFor this exercise we will be using a CCS dataset which consist of monthly CO2 emissions measured at a well location (Synthetic data)"
      ]
    },
    {
      "execution_count": 0,
      "cell_type": "code",
      "metadata": {
        "pycharm": {
          "name": "#%%\n"
        }
      },
      "source": [
        "import pandas as pd\nimport matplotlib.pyplot as plt\n\nimport dataiku\nfrom dataiku import pandasutils as pdu"
      ],
      "outputs": []
    },
    {
      "cell_type": "markdown",
      "metadata": {},
      "source": [
        "## Step 1: Data Preparation"
      ]
    },
    {
      "execution_count": 0,
      "cell_type": "code",
      "metadata": {},
      "source": [
        "# Import the co2 dataset\n\nmydataset \u003d dataiku.Dataset(\"co2\")\nco2_data \u003d mydataset.get_dataframe()\n\n\n# Make sure that the column \u0027Prod Date\u0027 is treated as date\n\n\n\n\n# Set the column \u0027date\u0027 as index\n\n"
      ],
      "outputs": []
    },
    {
      "execution_count": 0,
      "cell_type": "code",
      "metadata": {},
      "source": [
        "# Explore the data \u0027co2_data\u0027\n\n"
      ],
      "outputs": []
    },
    {
      "execution_count": 0,
      "cell_type": "code",
      "metadata": {
        "pycharm": {
          "name": "#%%\n"
        }
      },
      "source": [
        "# Create a line plot of the co2 data (\u0027co2_data\u0027) per month \n\nco2_data.plot(figsize\u003d(12, 4))\nplt.xlabel(\"Date\")\nplt.ylabel(\"CO2 Emissions\")\nplt.show()"
      ],
      "outputs": []
    },
    {
      "cell_type": "markdown",
      "metadata": {},
      "source": [
        "## Step 2: Create Lag Variables\n\n"
      ]
    },
    {
      "execution_count": 0,
      "cell_type": "code",
      "metadata": {},
      "source": [
        "# Create three lag variables using the .shift() function\n\nco2_data.sort_values(\u0027date\u0027, inplace\u003dTrue)\nco2_data[\u0027co2_lag_1\u0027] \u003d co2_data[\u0027co2\u0027].shift(1)\nco2_data[\u0027co2_lag_2\u0027] \u003d co2_data[\u0027co2\u0027].shift(2)\nco2_data[\u0027co2_lag_3\u0027] \u003d co2_data[\u0027co2\u0027].shift(3)\n\nco2_data\n\n# Note thet it shifts the \u0027co2\u0027 column down by a certain number"
      ],
      "outputs": []
    },
    {
      "execution_count": 0,
      "cell_type": "code",
      "metadata": {
        "pycharm": {
          "name": "#%%\n"
        }
      },
      "source": [
        "# We can define a function to create multiple lag variables \n\ndef reformat(co2_data, lag_first\u003d1, lag_last\u003d3, l_\u003d[]):\n    ddf \u003d co2_data.copy()\n    for c in l_:\n        for i in range(lag_first, lag_last + 1):\n            ddf[\"{}_lag_{}\".format(c, i)] \u003d ddf[c].shift(i)\n    return ddf\n"
      ],
      "outputs": []
    },
    {
      "execution_count": 0,
      "cell_type": "code",
      "metadata": {
        "pycharm": {
          "name": "#%%\n"
        }
      },
      "source": [
        "# Apply the reformat function to the co2_data and call the new dataframe \u0027co2_data_reformat\u0027\n\nco2_data_reformat\u003d reformat(co2_data,1,24,[\"co2\"])\n"
      ],
      "outputs": []
    },
    {
      "execution_count": 0,
      "cell_type": "code",
      "metadata": {
        "pycharm": {
          "name": "#%%\n"
        }
      },
      "source": [
        "# Display the new dataframe \u0027co2_data_reformat\u0027\n\n"
      ],
      "outputs": []
    },
    {
      "execution_count": 0,
      "cell_type": "code",
      "metadata": {
        "pycharm": {
          "name": "#%%\n"
        }
      },
      "source": [
        "# Remove the rows containing null values from the \u0027co2_data_reformat\u0027 dataset using the .dropna() function\n\n\n\n# Display the edited dataframe \u0027co2_data_reformat\u0027\n\n"
      ],
      "outputs": []
    },
    {
      "cell_type": "markdown",
      "metadata": {},
      "source": [
        "## Step 3: Generate ML Models"
      ]
    },
    {
      "execution_count": 0,
      "cell_type": "code",
      "metadata": {
        "pycharm": {
          "name": "#%%\n"
        }
      },
      "source": [
        "# Define the features and target variables\n\nfeatures\u003d co2_data_reformat.drop([\"co2\"],axis\u003d1)\n\ntarget\u003d co2_data_reformat[\"co2\"]"
      ],
      "outputs": []
    },
    {
      "execution_count": 0,
      "cell_type": "code",
      "metadata": {
        "pycharm": {
          "name": "#%%\n"
        }
      },
      "source": [
        "# Define the number of test months \u0027Ntest\u0027\n\nNtest \u003d 12\n\n# Define the test and train sets\n\nfeatures_train, target_train \u003d features[:-Ntest], target[:-Ntest]\n\nfeatures_test, target_test \u003d features[-Ntest:], target[-Ntest:]"
      ],
      "outputs": []
    },
    {
      "execution_count": 0,
      "cell_type": "code",
      "metadata": {
        "pycharm": {
          "name": "#%%\n"
        }
      },
      "source": [
        "import xgboost as xgb\n\n# Train a XGBoost regression model\n\nxg \u003d xgb.XGBRegressor()\nxg.fit(features_train, target_train)\n\n\n# Evaluate the \u0027xg\u0027 model\n\nxg.score(features_test, target_test)"
      ],
      "outputs": []
    },
    {
      "execution_count": 0,
      "cell_type": "code",
      "metadata": {
        "pycharm": {
          "name": "#%%\n"
        }
      },
      "source": [
        "from sklearn.linear_model import LinearRegression\n\n# Train a linear regression mnodel\n\n\n# Evaluate the \u0027lr\u0027 model\n\n"
      ],
      "outputs": []
    },
    {
      "execution_count": 0,
      "cell_type": "code",
      "metadata": {
        "pycharm": {
          "name": "#%%\n"
        }
      },
      "source": [
        "from sklearn.ensemble import RandomForestRegressor\n\n# Train a random forest model\n\n\n\n\n# Evaluate the \u0027rf\u0027 model\n\n"
      ],
      "outputs": []
    },
    {
      "cell_type": "markdown",
      "metadata": {},
      "source": [
        "## Step 4: Compare the ML models"
      ]
    },
    {
      "execution_count": 0,
      "cell_type": "code",
      "metadata": {
        "pycharm": {
          "name": "#%%\n"
        }
      },
      "source": [
        "# Prepare the data for visualization\n\nco2_data_reformat_\u003dreformat(co2_data,1,24,[\"co2\"]).drop([\"co2\"],axis\u003d1)\nvalids\u003dco2_data_reformat_.notna().all(axis\u003d1)\n\nco2_data.loc[valids, \u0027LR_1step\u0027] \u003d lr.predict(features)\nco2_data.loc[valids, \u0027RF_1step\u0027] \u003d rf.predict(features)\nco2_data.loc[valids, \u0027XGB_1step\u0027] \u003d xg.predict(features)\n"
      ],
      "outputs": []
    },
    {
      "execution_count": 0,
      "cell_type": "code",
      "metadata": {
        "pycharm": {
          "name": "#%%\n"
        }
      },
      "source": [
        "# Visualize the predictions from each model on the train and test sets\n\nco2_data[[\u0027co2\u0027, \u0027LR_1step\u0027,\u0027RF_1step\u0027,\u0027XGB_1step\u0027]].plot(figsize\u003d(12, 4))\n\nplt.show()"
      ],
      "outputs": []
    },
    {
      "execution_count": 0,
      "cell_type": "code",
      "metadata": {
        "pycharm": {
          "name": "#%%\n"
        }
      },
      "source": [
        "# Visualize the predictions of each model on the test set\n\nfig,ax\u003dplt.subplots(1,1)\nco2_data[[\u0027co2\u0027]].plot(figsize\u003d(12, 4),ax\u003dax);\n\nco2_data[-Ntest:][[\u0027LR_1step\u0027,\u0027RF_1step\u0027,\u0027XGB_1step\u0027]].plot(figsize\u003d(12, 4),ax\u003dax);\nplt.show()\n"
      ],
      "outputs": []
    }
  ]
}